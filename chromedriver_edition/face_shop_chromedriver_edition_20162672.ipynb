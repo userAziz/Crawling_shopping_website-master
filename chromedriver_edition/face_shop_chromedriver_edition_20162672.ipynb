{
 "cells": [
  {
   "cell_type": "code",
   "execution_count": 54,
   "metadata": {},
   "outputs": [],
   "source": [
    "import os"
   ]
  },
  {
   "cell_type": "code",
   "execution_count": 55,
   "metadata": {},
   "outputs": [],
   "source": [
    "from selenium import webdriver\n",
    "from bs4 import BeautifulSoup\n",
    "import requests\n",
    "from selenium.webdriver.common.desired_capabilities import DesiredCapabilities\n",
    "import time\n",
    "from selenium.webdriver.common.keys import Keys\n",
    "import datetime as dt\n",
    "import pandas as pd\n",
    "import matplotlib.pyplot as plt\n",
    "import numpy as np\n",
    "import gensim\n",
    "from gensim.models import CoherenceModel\n",
    "from gensim.models.word2vec import Word2Vec\n",
    "from gensim import corpora, models\n",
    "from nltk.corpus import stopwords\n",
    "from nltk.stem.porter import PorterStemmer\n",
    "from nltk.tokenize import RegexpTokenizer\n",
    "from selenium.webdriver.support.ui import WebDriverWait\n",
    "import re\n",
    "import os"
   ]
  },
  {
   "cell_type": "code",
   "execution_count": 4,
   "metadata": {},
   "outputs": [
    {
     "name": "stdout",
     "output_type": "stream",
     "text": [
      "Product Name: Secriss Pure Nature Mask Pack 10Sheets (1ea of each types) // Discount Price: USD 12.75 // Orgiginal Price:  USD 15.00\n",
      "Product Name: TOSOWOONG Pure Mask Pack 12pcs (2ea of each types) // Discount Price: USD 13.99 // Orgiginal Price:  USD 19.98\n",
      "Product Name: ETUDE HOUSE 0.2 Therapy Air Mask 20ml * 3ea // Discount Price: USD 4.56 // Orgiginal Price:  USD 5.37\n",
      "Product Name: HOLIKA HOLIKA Baby Silky Foot Mask Sheet // Discount Price: USD 4.81 // Orgiginal Price:  USD 5.66\n",
      "Product Name: TONYMOLY Pureness 100 Mask Sheet // Discount Price: USD 2.85 // Orgiginal Price:  USD 4.07\n",
      "Product Name: JM Solution Mask Sheet Trial Set * 9 sheets // Discount Price: USD 15.30 // Orgiginal Price:  USD 18.00\n",
      "Product Name: skin79 Seoul Girl's Beauty Secret Mask 10ea // Discount Price: USD 13.34 // Orgiginal Price:  USD 15.70\n",
      "Product Name: Farmstay Visible Difference Mask Sheet 12ea (each 1 of all types) // Discount Price: USD 11.05 // Orgiginal Price:  USD 13.00\n",
      "Product Name: Real Barrier Aqua Soothing Ampoule Mask 28ml * 5ea // Discount Price: USD 13.50 // Orgiginal Price:  USD 18.00\n",
      "Product Name: PUREDERM New Hydro Collagen Mask Gold 25sheets // Discount Price: USD 11.61 // Orgiginal Price:  USD 13.66\n",
      "Product Name: JM Solution Honey Luminous Royal Propolis Mask 10ea // Discount Price: USD 15.72 // Orgiginal Price:  USD 18.50\n",
      "Product Name: JM Solution Marine Luminous Pearl Deep moisture Mask 10ea // Discount Price: USD 15.72 // Orgiginal Price:  USD 18.50\n",
      "Product Name: so natural pH 5.5 Red Ampoule Mask 1ea // Discount Price: USD 6.49 // Orgiginal Price:  USD 7.64\n",
      "Product Name: CELDERMA daily Wear Fit Mask 5ea // Discount Price: USD 21.25 // Orgiginal Price:  USD 25.00\n",
      "Product Name: I'm Sorry For My Skin Jelly Mask 10ea // Discount Price: USD 21.25 // Orgiginal Price:  USD 25.00\n",
      "Product Name: I'm Sorry For My Skin pH 5.5 Jelly Mask 3ea // Discount Price: USD 7.65 // Orgiginal Price:  USD 9.00\n",
      "Product Name: SHANGPREE Gold Premium Modeling Mask // Discount Price: USD 14.45 // Orgiginal Price:  USD 17.00\n",
      "Product Name: Cell Fusion C Post α First Cooling Mask 5ea // Discount Price: USD 12.75 // Orgiginal Price:  USD 15.00\n",
      "Product Name: Elizavecca Witch Piggy Hell-Pore Black Solution Bubble Serum Mask Pack 5ea // Discount Price: USD 13.33 // Orgiginal Price:  USD 15.68\n",
      "Product Name: MAY ISLAND Coenzyme Q10 Real Essence Mask Pack 10ea // Discount Price: USD 11.47 // Orgiginal Price:  USD 13.50\n",
      "Product Name: MAY ISLAND Vitamin Real Essence Mask Pack 10ea // Discount Price: USD 11.47 // Orgiginal Price:  USD 13.50\n",
      "Product Name: TONYMOLY Bling Cat Mask Sheet 5 Sheets // Discount Price: USD 10.48 // Orgiginal Price:  USD 13.98\n",
      "Product Name: NATURE REPUBLIC Real Nature Mask Sheet Aloe 10ea // Discount Price: USD 9.91 // Orgiginal Price:  USD 14.16\n",
      "Product Name: Real Barrier Extreme Cream Mask 30ml * 5ea // Discount Price: USD 13.50 // Orgiginal Price:  USD 18.00\n",
      "Product Name: seaNtree Mask Sheet 10ea // Discount Price: USD 10.20 // Orgiginal Price:  USD 12.00\n",
      "Product Name: Dr.Jart+ Ceramidin Facial Mask 5ea // Discount Price: USD 15.47 // Orgiginal Price:  USD 18.20\n",
      "Product Name: TOAS Miracle Laser Mask 10ea // Discount Price: USD 21.25 // Orgiginal Price:  USD 25.00\n",
      "Product Name: JM Solution Water Luminous S.O.S Ampoule Hyaluronic Mask 10ea // Discount Price: USD 16.15 // Orgiginal Price:  USD 19.00\n",
      "Product Name: JM Solution Glow Luminous Flower Firming Mask 10ea // Discount Price: USD 15.72 // Orgiginal Price:  USD 18.50\n",
      "Product Name: Isntree Real Rose Calming Mask 100ml // Discount Price: USD 22.22 // Orgiginal Price:  USD 26.14\n",
      "Product Name: NATURE REPUBLIC Real Nature Hydrogel Mask 22g 5ea // Discount Price: USD 7.81 // Orgiginal Price:  USD 11.16\n",
      "Product Name: MISSHA Wonder Foot Peeling Mask 50ml // Discount Price: USD 8.21 // Orgiginal Price:  USD 9.66\n",
      "Product Name: TONYMOLY Fresh To Go Mask Sheet #5ea // Discount Price: USD 6.29 // Orgiginal Price:  USD 8.98\n",
      "Product Name: BLITHE Blue Zone Marine Intensive Mask Abalone 3ea // Discount Price: USD 8.50 // Orgiginal Price:  USD 10.00\n",
      "Product Name: MEDIHEAL N.M.F Aquaring Ampoule Mask EX 10ea // Discount Price: USD 12.78 // Orgiginal Price:  USD 21.30\n",
      "Product Name: THE FACE SHOP Real Nature Mask 10 Sheets // Discount Price: USD 12.89 // Orgiginal Price:  USD 15.16\n",
      "Product Name: mefactory Peeling Dead Foot Pack 3ea // Discount Price: USD 13.34 // Orgiginal Price:  USD 15.70\n",
      "Product Name: mefactory Water Fillng Mask Pack 1ea // Discount Price: USD 6.06 // Orgiginal Price:  USD 7.13\n",
      "Product Name: DPC Aura Booster Mask 5ea // Discount Price: USD 19.55 // Orgiginal Price:  USD 23.00\n",
      "Product Name: DPC Collagen Booster Mask 5ea // Discount Price: USD 19.55 // Orgiginal Price:  USD 23.00\n",
      "Product Name: DPC Whitening Booster Mask 5ea // Discount Price: USD 19.55 // Orgiginal Price:  USD 23.00\n",
      "Product Name: DPC Aqua Booster Mask 5ea // Discount Price: USD 19.55 // Orgiginal Price:  USD 23.00\n",
      "Product Name: DPC Help Sheet Mask My skin is too dry 5ea // Discount Price: USD 21.25 // Orgiginal Price:  USD 25.00\n",
      "Product Name: DPC Help Jelly Mask My skin is too oily 5ea // Discount Price: USD 21.25 // Orgiginal Price:  USD 25.00\n",
      "Product Name: DPC Help Jelly Mask I am so tired 5ea // Discount Price: USD 21.25 // Orgiginal Price:  USD 25.00\n",
      "Product Name: DPC Help Jelly Mask I got wrinkles 5ea // Discount Price: USD 21.25 // Orgiginal Price:  USD 25.00\n",
      "Product Name: DPC Ultra V Lifting Double Layer Mask 5ea // Discount Price: USD 34.00 // Orgiginal Price:  USD 40.00\n",
      "Product Name: DMCK Hydration Baobab Ampoule Mask 10ea // Discount Price: USD 39.10 // Orgiginal Price:  USD 46.00\n"
     ]
    }
   ],
   "source": [
    "\n",
    "from selenium import webdriver\n",
    "\n",
    "\n",
    "driver = webdriver.Chrome('/Users/name/Downloads/chromedriver')\n",
    "driver.get(\"http://jolse.com/category/sheet-masks/1027/\")\n",
    "\n",
    "\n",
    "products = driver.find_elements_by_xpath('//p[@class=\"name\"]')\n",
    "prices = driver.find_elements_by_xpath('//li[@item-title=\"\"]')\n",
    "prices_original = driver.find_elements_by_xpath('//li[@item-title=\"Price\"]')\n",
    "\n",
    "\n",
    "items = len(products)\n",
    "for i in range(items):\n",
    "    print(\"Product Name: \" + products[i].text + \" // Discount Price: \" + prices[i].text + \" // Orgiginal Price:  \" + prices_original[i].text)\n",
    "\n",
    "\n",
    "driver.close()"
   ]
  },
  {
   "cell_type": "code",
   "execution_count": 6,
   "metadata": {},
   "outputs": [],
   "source": [
    "from selenium import webdriver\n",
    "\n",
    "max_num = 11\n",
    "max_dig = 1\n",
    "driver = webdriver.Chrome('/Users/name/Downloads/chromedriver')\n",
    "\n",
    "with open('results.csv', 'w') as f:\n",
    "    f.write(\"Product Names // , Discount Prices // , Original Prices\\n\")\n",
    "\n",
    "for i in range(1, max_num + 1):\n",
    "    page_num = (max_dig - len(str(i))) * \"0\" + str(i)\n",
    "    url = \"http://jolse.com/category/sheet-masks/1027/?page=\" + page_num\n",
    "\n",
    "    driver.get(url)\n",
    "\n",
    "    products = driver.find_elements_by_xpath('//p[@class=\"name\"]')\n",
    "    prices = driver.find_elements_by_xpath('//li[@item-title=\"\"]')\n",
    "    prices_original = driver.find_elements_by_xpath('//li[@item-title=\"Price\"]')\n",
    "\n",
    "    num_page_items = len(prices)\n",
    "    with open('results.csv', 'a') as f:\n",
    "        for j in range(num_page_items):\n",
    "            f.write(products[j].text + \", \" + prices[j].text + \", \" + prices_original[j].text +\"\\n\")\n",
    "\n",
    "driver.close()"
   ]
  },
  {
   "cell_type": "code",
   "execution_count": null,
   "metadata": {},
   "outputs": [],
   "source": []
  }
 ],
 "metadata": {
  "kernelspec": {
   "display_name": "Python 3",
   "language": "python",
   "name": "python3"
  },
  "language_info": {
   "codemirror_mode": {
    "name": "ipython",
    "version": 3
   },
   "file_extension": ".py",
   "mimetype": "text/x-python",
   "name": "python",
   "nbconvert_exporter": "python",
   "pygments_lexer": "ipython3",
   "version": "3.7.4"
  }
 },
 "nbformat": 4,
 "nbformat_minor": 2
}
